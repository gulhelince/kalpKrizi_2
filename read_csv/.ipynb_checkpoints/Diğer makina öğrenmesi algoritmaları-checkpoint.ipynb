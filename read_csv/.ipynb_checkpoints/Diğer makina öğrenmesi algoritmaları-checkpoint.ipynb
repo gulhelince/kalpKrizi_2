{
 "cells": [
  {
   "cell_type": "markdown",
   "id": "8b84a38d",
   "metadata": {},
   "source": [
    "# Diğer makina öğrenmesi algoritmaları"
   ]
  },
  {
   "cell_type": "code",
   "execution_count": 1,
   "id": "f0c2207c",
   "metadata": {},
   "outputs": [],
   "source": [
    "import pandas as pd\n",
    "import numpy as np\n",
    "import matplotlib.pyplot as plt\n",
    "import seaborn as sns\n",
    "from sklearn.metrics import classification_report #sınıflandırma raporu için kullanılır \n",
    "from sklearn.metrics import accuracy_score\n",
    "from sklearn.metrics import confusion_matrix\n",
    "from sklearn.model_selection import train_test_split #eğitim ve testi bölmek için kullanılır \n",
    "from sklearn.linear_model import LogisticRegression  \n",
    "from sklearn.tree import DecisionTreeClassifier\n",
    "from sklearn.svm import SVC #destek vektör algoritmaları\n",
    "from sklearn.neighbors import KNeighborsClassifier #K-en yakın komşu algoritması"
   ]
  },
  {
   "cell_type": "code",
   "execution_count": 2,
   "id": "0fd48201",
   "metadata": {},
   "outputs": [],
   "source": [
    "data = pd.read_csv(\"data.csv\")\n",
    "\n",
    "data.drop([\"Unnamed: 32\"],axis=1,inplace=True)\n",
    "data.drop([\"id\"],axis=1,inplace=True)\n",
    "\n",
    "data.diagnosis= [1 if i==\"M\" else 0 for i in data.diagnosis]\n",
    "\n",
    "#Datanın sınıfını ve fucuturesini ayır\n",
    "y=data.diagnosis.values\n",
    "X=data.drop([\"diagnosis\"],axis=1)\n",
    "\n",
    "#Data dört eşit parçaya bölünür\n",
    "X_train, X_test, y_train,y_test = train_test_split(X,y,train_size=0.7,random_state=44)"
   ]
  },
  {
   "cell_type": "code",
   "execution_count": 3,
   "id": "fdd67264",
   "metadata": {},
   "outputs": [
    {
     "name": "stdout",
     "output_type": "stream",
     "text": [
      "              precision    recall  f1-score   support\n",
      "\n",
      "           0       0.97      0.96      0.97       108\n",
      "           1       0.94      0.95      0.94        63\n",
      "\n",
      "    accuracy                           0.96       171\n",
      "   macro avg       0.95      0.96      0.96       171\n",
      "weighted avg       0.96      0.96      0.96       171\n",
      "\n",
      "[[104   4]\n",
      " [  3  60]]\n",
      "knn doğruluk değeri: 0.9590643274853801\n"
     ]
    }
   ],
   "source": [
    "model=KNeighborsClassifier() #yapıcı metodu çağır \n",
    "model.fit(X_train,y_train) #eğitim datasını fit et,eğitim ve test datasının eğitim işlemini tamamla\n",
    "\n",
    "#tahmin yapma zamanı \n",
    "#x_testi tahmin edicez, y_test ise gerçek değerlerimiz gibi düşün\n",
    "#yani veriyi bi şekilde tahmin edicem ve daha sonra y_test ile karşılaştırmasını yapıcam\n",
    "\n",
    "y_pred=model.predict(X_test) #tahmin edilen değer\n",
    "\n",
    "print(classification_report(y_test,y_pred)) #sınıflandırma raporunu getir\n",
    "print(confusion_matrix(y_test,y_pred)) #hata matrisini çizdir \n",
    "\n",
    "knnDogruluk=accuracy_score(y_test,y_pred) #test datama göre tahmin edilen değerlerimin sonuçlarını verir\n",
    "print(\"knn doğruluk değeri:\",knnDogruluk) #doğruluk değerini yazdır "
   ]
  },
  {
   "cell_type": "code",
   "execution_count": 4,
   "id": "e5fcc4fc",
   "metadata": {},
   "outputs": [
    {
     "name": "stdout",
     "output_type": "stream",
     "text": [
      "              precision    recall  f1-score   support\n",
      "\n",
      "           0       0.97      0.96      0.97       108\n",
      "           1       0.94      0.95      0.94        63\n",
      "\n",
      "    accuracy                           0.96       171\n",
      "   macro avg       0.95      0.96      0.96       171\n",
      "weighted avg       0.96      0.96      0.96       171\n",
      "\n",
      "knn doğruluk değeri: 0.9590643274853801\n"
     ]
    },
    {
     "data": {
      "image/png": "[encoded data removed]",
      "text/plain": [
       "<Figure size 432x288 with 2 Axes>"
      ]
     },
     "metadata": {
      "needs_background": "light"
     },
     "output_type": "display_data"
    }
   ],
   "source": [
    "model=KNeighborsClassifier() #yapıcı metodu çağır \n",
    "model.fit(X_train,y_train) #eğitim datasını fit et,eğitim ve test datasının eğitim işlemini tamamla\n",
    "\n",
    "#tahmin yapma zamanı \n",
    "#x_testi tahmin edicez, y_test ise gerçek değerlerimiz gibi düşün\n",
    "#yani veriyi bi şekilde tahmin edicem ve daha sonra y_test ile karşılaştırmasını yapıcam\n",
    "\n",
    "y_pred=model.predict(X_test) #tahmin edilen değer\n",
    "\n",
    "print(classification_report(y_test,y_pred)) #sınıflandırma raporunu getir\n",
    "\n",
    "knnDogruluk=accuracy_score(y_test,y_pred) #test datama göre tahmin edilen değerlerimin sonuçlarını verir\n",
    "print(\"knn doğruluk değeri:\",knnDogruluk) #doğruluk değerini yazdır \n",
    "\n",
    "#Hata matrisinin başka bir yazılma şekli\n",
    "cm=confusion_matrix(y_test,y_pred)\n",
    "sns.heatmap(cm,annot=True,fmt='.0f') #annot=değerleri yazsın diye verilir\n",
    "plt.show()\n"
   ]
  },
  {
   "cell_type": "code",
   "execution_count": 5,
   "id": "6a795114",
   "metadata": {},
   "outputs": [
    {
     "name": "stdout",
     "output_type": "stream",
     "text": [
      "              precision    recall  f1-score   support\n",
      "\n",
      "           0       0.96      0.99      0.98       108\n",
      "           1       0.98      0.94      0.96        63\n",
      "\n",
      "    accuracy                           0.97       171\n",
      "   macro avg       0.97      0.96      0.97       171\n",
      "weighted avg       0.97      0.97      0.97       171\n",
      "\n",
      "Lojistik Regresyon doğruluk değeri: 0.9707602339181286\n"
     ]
    },
    {
     "name": "stderr",
     "output_type": "stream",
     "text": [
      "C:\\Users\\Gülşen\\AppData\\Local\\Programs\\Python\\Python310\\lib\\site-packages\\sklearn\\linear_model\\_logistic.py:444: ConvergenceWarning: lbfgs failed to converge (status=1):\n",
      "STOP: TOTAL NO. of ITERATIONS REACHED LIMIT.\n",
      "\n",
      "Increase the number of iterations (max_iter) or scale the data as shown in:\n",
      "    https://scikit-learn.org/stable/modules/preprocessing.html\n",
      "Please also refer to the documentation for alternative solver options:\n",
      "    https://scikit-learn.org/stable/modules/linear_model.html#logistic-regression\n",
      "  n_iter_i = _check_optimize_result(\n"
     ]
    },
    {
     "data": {
      "image/png": "[encoded data removed]",
      "text/plain": [
       "<Figure size 432x288 with 2 Axes>"
      ]
     },
     "metadata": {
      "needs_background": "light"
     },
     "output_type": "display_data"
    }
   ],
   "source": [
    "#Logistic Regresyon Algoritması \n",
    "logr=LogisticRegression() #yapıcı metot çağrılır\n",
    "logr.fit(X_train,y_train)\n",
    "\n",
    "y_pred=logr.predict(X_test) #tahmin et\n",
    "\n",
    "print(classification_report(y_test,y_pred)) #sınıflandırma raporu \n",
    "\n",
    "logDogruluk=accuracy_score(y_test,y_pred)\n",
    "\n",
    "print(\"Lojistik Regresyon doğruluk değeri:\",logDogruluk)\n",
    "\n",
    "cm=confusion_matrix(y_test,y_pred)\n",
    "sns.heatmap(cm,annot=True,fmt='.0f') #annot=değerleri yazsın diye verilir\n",
    "plt.show()"
   ]
  },
  {
   "cell_type": "code",
   "execution_count": null,
   "id": "d139e612",
   "metadata": {},
   "outputs": [],
   "source": [
    "#farklı algoritmalar denenerek en iyi doğruluk değerini bulan algoritma secilir "
   ]
  },
  {
   "cell_type": "code",
   "execution_count": 6,
   "id": "5124a369",
   "metadata": {},
   "outputs": [
    {
     "name": "stdout",
     "output_type": "stream",
     "text": [
      "              precision    recall  f1-score   support\n",
      "\n",
      "           0       0.96      0.99      0.98       108\n",
      "           1       0.98      0.94      0.96        63\n",
      "\n",
      "    accuracy                           0.97       171\n",
      "   macro avg       0.97      0.96      0.97       171\n",
      "weighted avg       0.97      0.97      0.97       171\n",
      "\n",
      "Decision Tree doğruluk değeri: 0.9707602339181286\n"
     ]
    },
    {
     "data": {
      "image/png": "[encoded data removed]",
      "text/plain": [
       "<Figure size 432x288 with 2 Axes>"
      ]
     },
     "metadata": {
      "needs_background": "light"
     },
     "output_type": "display_data"
    }
   ],
   "source": [
    "#Logistic Regresyon Algoritması \n",
    "dt =DecisionTreeClassifier() #yapıcı metot çağrılır\n",
    "dt.fit(X_train,y_train) #eğitim datamı fit et \n",
    "\n",
    "y_pred=logr.predict(X_test) #tahmin et\n",
    "\n",
    "print(classification_report(y_test,y_pred)) #sınıflandırma raporu \n",
    "\n",
    "dtDogruluk=accuracy_score(y_test,y_pred)\n",
    "\n",
    "print(\"Decision Tree doğruluk değeri:\",dtDogruluk)\n",
    "\n",
    "cm=confusion_matrix(y_test,y_pred)\n",
    "sns.heatmap(cm,annot=True,fmt='.0f') #annot=değerleri yazsın diye verilir\n",
    "plt.show()"
   ]
  },
  {
   "cell_type": "code",
   "execution_count": 7,
   "id": "2213d3f7",
   "metadata": {},
   "outputs": [
    {
     "name": "stdout",
     "output_type": "stream",
     "text": [
      "              precision    recall  f1-score   support\n",
      "\n",
      "           0       0.96      0.96      0.96       108\n",
      "           1       0.94      0.94      0.94        63\n",
      "\n",
      "    accuracy                           0.95       171\n",
      "   macro avg       0.95      0.95      0.95       171\n",
      "weighted avg       0.95      0.95      0.95       171\n",
      "\n",
      "Decision Tree doğruluk değeri: 0.9532163742690059\n"
     ]
    },
    {
     "data": {
      "image/png": "[encoded data removed]",
      "text/plain": [
       "<Figure size 432x288 with 2 Axes>"
      ]
     },
     "metadata": {
      "needs_background": "light"
     },
     "output_type": "display_data"
    }
   ],
   "source": [
    "#Destek vektör Algoritması \n",
    "dvm =SVC() #yapıcı metot çağrılır,parametre alabilir \n",
    "dvm.fit(X_train,y_train) #eğitim datamı fit et \n",
    "\n",
    "y_pred=dvm.predict(X_test) #tahmin et\n",
    "\n",
    "print(classification_report(y_test,y_pred)) #sınıflandırma raporu \n",
    "\n",
    "dvmDogruluk=accuracy_score(y_test,y_pred)\n",
    "\n",
    "print(\"Decision Tree doğruluk değeri:\",dvmDogruluk)\n",
    "\n",
    "cm=confusion_matrix(y_test,y_pred)\n",
    "sns.heatmap(cm,annot=True,fmt='.0f') #annot=değerleri yazsın diye verilir\n",
    "plt.show()"
   ]
  },
  {
   "cell_type": "code",
   "execution_count": 8,
   "id": "c251e1e5",
   "metadata": {},
   "outputs": [
    {
     "name": "stdout",
     "output_type": "stream",
     "text": [
      "              precision    recall  f1-score   support\n",
      "\n",
      "           0       0.95      0.95      0.95       108\n",
      "           1       0.92      0.92      0.92        63\n",
      "\n",
      "    accuracy                           0.94       171\n",
      "   macro avg       0.94      0.94      0.94       171\n",
      "weighted avg       0.94      0.94      0.94       171\n",
      "\n",
      "Gaussian NB doğruluk: 0.9415204678362573\n"
     ]
    },
    {
     "data": {
      "image/png": "[encoded data removed]",
      "text/plain": [
       "<Figure size 432x288 with 2 Axes>"
      ]
     },
     "metadata": {
      "needs_background": "light"
     },
     "output_type": "display_data"
    }
   ],
   "source": [
    "from sklearn.naive_bayes import GaussianNB\n",
    "\n",
    "gnb = GaussianNB()\n",
    "gnb.fit(X_train,y_train)\n",
    "\n",
    "y_pred=gnb.predict(X_test)\n",
    "print(classification_report(y_test,y_pred))\n",
    "\n",
    "gnbDogruluk=accuracy_score(y_test,y_pred)\n",
    "print(\"Gaussian NB doğruluk:\", gnbDogruluk)\n",
    "\n",
    "cm=confusion_matrix(y_test,y_pred)\n",
    "sns.heatmap(cm,annot=True,fmt=\".0f\")\n",
    "plt.show()"
   ]
  },
  {
   "cell_type": "code",
   "execution_count": 9,
   "id": "f6ed8047",
   "metadata": {},
   "outputs": [],
   "source": [
    "modeller = pd.DataFrame({'Model':['Logistik Regresyon',\n",
    "                                  'Karar Ağaçları',\n",
    "                                  'Destek Vektör Makinesi',\n",
    "                                  'K-en yakın komşu',\n",
    "                                  'Gaussian NB'],\n",
    "                        'Score':[logDogruluk,dtDogruluk,dvmDogruluk,knnDogruluk,gnbDogruluk]})"
   ]
  },
  {
   "cell_type": "code",
   "execution_count": 10,
   "id": "2a706514",
   "metadata": {},
   "outputs": [
    {
     "data": {
      "text/html": [
       "<div>\n",
       "<style scoped>\n",
       "    .dataframe tbody tr th:only-of-type {\n",
       "        vertical-align: middle;\n",
       "    }\n",
       "\n",
       "    .dataframe tbody tr th {\n",
       "        vertical-align: top;\n",
       "    }\n",
       "\n",
       "    .dataframe thead th {\n",
       "        text-align: right;\n",
       "    }\n",
       "</style>\n",
       "<table border=\"1\" class=\"dataframe\">\n",
       "  <thead>\n",
       "    <tr style=\"text-align: right;\">\n",
       "      <th></th>\n",
       "      <th>Model</th>\n",
       "      <th>Score</th>\n",
       "    </tr>\n",
       "  </thead>\n",
       "  <tbody>\n",
       "    <tr>\n",
       "      <th>0</th>\n",
       "      <td>Logistik Regresyon</td>\n",
       "      <td>0.970760</td>\n",
       "    </tr>\n",
       "    <tr>\n",
       "      <th>1</th>\n",
       "      <td>Karar Ağaçları</td>\n",
       "      <td>0.970760</td>\n",
       "    </tr>\n",
       "    <tr>\n",
       "      <th>2</th>\n",
       "      <td>Destek Vektör Makinesi</td>\n",
       "      <td>0.953216</td>\n",
       "    </tr>\n",
       "    <tr>\n",
       "      <th>3</th>\n",
       "      <td>K-en yakın komşu</td>\n",
       "      <td>0.959064</td>\n",
       "    </tr>\n",
       "    <tr>\n",
       "      <th>4</th>\n",
       "      <td>Gaussian NB</td>\n",
       "      <td>0.941520</td>\n",
       "    </tr>\n",
       "  </tbody>\n",
       "</table>\n",
       "</div>"
      ],
      "text/plain": [
       "                    Model     Score\n",
       "0      Logistik Regresyon  0.970760\n",
       "1          Karar Ağaçları  0.970760\n",
       "2  Destek Vektör Makinesi  0.953216\n",
       "3        K-en yakın komşu  0.959064\n",
       "4             Gaussian NB  0.941520"
      ]
     },
     "execution_count": 10,
     "metadata": {},
     "output_type": "execute_result"
    }
   ],
   "source": [
    "modeller"
   ]
  },
  {
   "cell_type": "code",
   "execution_count": 11,
   "id": "60790c46",
   "metadata": {},
   "outputs": [
    {
     "data": {
      "text/html": [
       "<div>\n",
       "<style scoped>\n",
       "    .dataframe tbody tr th:only-of-type {\n",
       "        vertical-align: middle;\n",
       "    }\n",
       "\n",
       "    .dataframe tbody tr th {\n",
       "        vertical-align: top;\n",
       "    }\n",
       "\n",
       "    .dataframe thead th {\n",
       "        text-align: right;\n",
       "    }\n",
       "</style>\n",
       "<table border=\"1\" class=\"dataframe\">\n",
       "  <thead>\n",
       "    <tr style=\"text-align: right;\">\n",
       "      <th></th>\n",
       "      <th>Model</th>\n",
       "      <th>Score</th>\n",
       "    </tr>\n",
       "  </thead>\n",
       "  <tbody>\n",
       "    <tr>\n",
       "      <th>0</th>\n",
       "      <td>Logistik Regresyon</td>\n",
       "      <td>0.970760</td>\n",
       "    </tr>\n",
       "    <tr>\n",
       "      <th>1</th>\n",
       "      <td>Karar Ağaçları</td>\n",
       "      <td>0.970760</td>\n",
       "    </tr>\n",
       "    <tr>\n",
       "      <th>3</th>\n",
       "      <td>K-en yakın komşu</td>\n",
       "      <td>0.959064</td>\n",
       "    </tr>\n",
       "    <tr>\n",
       "      <th>2</th>\n",
       "      <td>Destek Vektör Makinesi</td>\n",
       "      <td>0.953216</td>\n",
       "    </tr>\n",
       "    <tr>\n",
       "      <th>4</th>\n",
       "      <td>Gaussian NB</td>\n",
       "      <td>0.941520</td>\n",
       "    </tr>\n",
       "  </tbody>\n",
       "</table>\n",
       "</div>"
      ],
      "text/plain": [
       "                    Model     Score\n",
       "0      Logistik Regresyon  0.970760\n",
       "1          Karar Ağaçları  0.970760\n",
       "3        K-en yakın komşu  0.959064\n",
       "2  Destek Vektör Makinesi  0.953216\n",
       "4             Gaussian NB  0.941520"
      ]
     },
     "execution_count": 11,
     "metadata": {},
     "output_type": "execute_result"
    }
   ],
   "source": [
    "modeller.sort_values(by='Score',ascending=False) #büyükten küçüğe sıralar "
   ]
  },
  {
   "cell_type": "code",
   "execution_count": 12,
   "id": "c1747cdc",
   "metadata": {},
   "outputs": [
    {
     "data": {
      "text/plain": [
       "<BarContainer object of 5 artists>"
      ]
     },
     "execution_count": 12,
     "metadata": {},
     "output_type": "execute_result"
    },
    {
     "data": {
      "image/png": "[encoded data removed]",
      "text/plain": [
       "<Figure size 432x288 with 1 Axes>"
      ]
     },
     "metadata": {
      "needs_background": "light"
     },
     "output_type": "display_data"
    }
   ],
   "source": [
    "plt.bar(modeller.Model,modeller.Score)"
   ]
  },
  {
   "cell_type": "code",
   "execution_count": null,
   "id": "83589eba",
   "metadata": {},
   "outputs": [],
   "source": []
  }
 ],
 "metadata": {
  "kernelspec": {
   "display_name": "Python 3 (ipykernel)",
   "language": "python",
   "name": "python3"
  },
  "language_info": {
   "codemirror_mode": {
    "name": "ipython",
    "version": 3
   },
   "file_extension": ".py",
   "mimetype": "text/x-python",
   "name": "python",
   "nbconvert_exporter": "python",
   "pygments_lexer": "ipython3",
   "version": "3.10.6"
  }
 },
 "nbformat": 4,
 "nbformat_minor": 5
}
